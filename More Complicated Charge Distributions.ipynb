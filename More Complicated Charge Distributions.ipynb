{
 "cells": [
  {
   "cell_type": "markdown",
   "metadata": {},
   "source": [
    "## More Complicated Charge Distributions\n",
    "To make our process easier, we know we can apply superposition to simply add the constributions from each field. Thus, we can make functions which give the individual contribution from a point charge. It will take in the point we are evaluating at $\\vec{r}=(x,y)$, the source coord $\\vec{r}_0=(x_0,y_0)$, and the charge $q$ at the source, and return the electric field vector $\\vec{E}=<E_x,E_y>$\n",
    "\n",
    "So how do we begin? First, recall the formula for the field from a point charge:\n",
    "\n",
    "$$\\vec{E}(\\vec{r})=q\\frac{\\vec{r}-\\vec{r}_0}{|\\vec{r}-\\vec{r}_0|^3}$$\n",
    "\n",
    "Applying the formula with our generalized x-y coordinates we see:\n",
    "\n",
    "$$\\vec{E}(\\vec{r})=q\\frac{(x-x_0)\\hat{\\imath}+(y-y_0)\\hat{\\jmath}}{|(x-x_0)^2+(y-y_0)^2|^3}$$\n",
    "\n",
    "This bottom term represents the distance from $\\vec{r}$ to $\\vec{r}_0$. Let's continue to simplify:\n",
    "\n",
    "$$\\vec{E}(\\vec{r})=q \\left[ \n",
    "\\frac{(x-x_0)}{((x-x_0)^2+(y-y_0)^2)^{3/2}}\\hat{\\imath}\n",
    "+\\frac{(y-y_0)}{((x-x_0)^2+(y-y_0)^2)^{3/2}}\\hat{\\jmath}\n",
    "\\right]$$\n",
    "\n",
    "And thus, if $\\vec{E}=<E_x,E_y>$:\n",
    "\n",
    "$$E_x=\\frac{q(x-x_0)}{((x-x_0)^2+(y-y_0)^2)^{3/2}}$$\n",
    "$$E_y=\\frac{q(y-y_0)}{((x-x_0)^2+(y-y_0)^2)^{3/2}}$$\n",
    "\n",
    "Which lets us easily construct the required function."
   ]
  },
  {
   "cell_type": "code",
   "execution_count": 2,
   "metadata": {},
   "outputs": [],
   "source": [
    "import math\n",
    "\n",
    "def E(r,r0,q):\n",
    "    delx = r[0]-r0[0]\n",
    "    dely = r[1]-r0[1]\n",
    "    \n",
    "    if delx**2+dely**2 == 0:\n",
    "        print(\"Singular point error at (\",r[0],\",\",r[1],\")\")\n",
    "    else:\n",
    "        dist = math.sqrt(delx**2+dely**2)\n",
    "        E = [q*delx/dist,q*dely/dist]\n",
    "        return E"
   ]
  },
  {
   "cell_type": "code",
   "execution_count": 5,
   "metadata": {},
   "outputs": [
    {
     "name": "stdout",
     "output_type": "stream",
     "text": [
      "Singular point error at ( 0 , 0 )\n",
      "None\n"
     ]
    }
   ],
   "source": [
    "r=[0,0]\n",
    "r0=[0,0]\n",
    "q=+1\n",
    "\n",
    "print(E(r,r0,q))\n",
    "\n"
   ]
  },
  {
   "cell_type": "code",
   "execution_count": 31,
   "metadata": {},
   "outputs": [
    {
     "ename": "TypeError",
     "evalue": "type list doesn't define __round__ method",
     "output_type": "error",
     "traceback": [
      "\u001b[0;31m---------------------------------------------------------------------------\u001b[0m",
      "\u001b[0;31mTypeError\u001b[0m                                 Traceback (most recent call last)",
      "\u001b[0;32m<ipython-input-31-25077addfa31>\u001b[0m in \u001b[0;36m<module>\u001b[0;34m\u001b[0m\n\u001b[1;32m     16\u001b[0m \u001b[0;34m\u001b[0m\u001b[0m\n\u001b[1;32m     17\u001b[0m         \u001b[0;32mif\u001b[0m \u001b[0mx\u001b[0m \u001b[0;34m!=\u001b[0m \u001b[0;36m0\u001b[0m \u001b[0;32mand\u001b[0m \u001b[0my\u001b[0m \u001b[0;34m!=\u001b[0m \u001b[0;36m0\u001b[0m\u001b[0;34m:\u001b[0m\u001b[0;34m\u001b[0m\u001b[0;34m\u001b[0m\u001b[0m\n\u001b[0;32m---> 18\u001b[0;31m             \u001b[0mdata\u001b[0m\u001b[0;34m[\u001b[0m\u001b[0mi\u001b[0m\u001b[0;34m]\u001b[0m\u001b[0;34m.\u001b[0m\u001b[0mappend\u001b[0m\u001b[0;34m(\u001b[0m\u001b[0mround\u001b[0m\u001b[0;34m(\u001b[0m\u001b[0mE\u001b[0m\u001b[0;34m(\u001b[0m\u001b[0;34m[\u001b[0m\u001b[0mx\u001b[0m\u001b[0;34m,\u001b[0m\u001b[0my\u001b[0m\u001b[0;34m]\u001b[0m\u001b[0;34m,\u001b[0m\u001b[0;34m[\u001b[0m\u001b[0;36m0\u001b[0m\u001b[0;34m,\u001b[0m\u001b[0;36m0\u001b[0m\u001b[0;34m]\u001b[0m\u001b[0;34m,\u001b[0m\u001b[0;36m1\u001b[0m\u001b[0;34m)\u001b[0m\u001b[0;34m,\u001b[0m\u001b[0;36m2\u001b[0m\u001b[0;34m)\u001b[0m\u001b[0;34m)\u001b[0m \u001b[0;31m#This is not working correctly\u001b[0m\u001b[0;34m\u001b[0m\u001b[0;34m\u001b[0m\u001b[0m\n\u001b[0m\u001b[1;32m     19\u001b[0m \u001b[0;34m\u001b[0m\u001b[0m\n\u001b[1;32m     20\u001b[0m \u001b[0;31m#print(data)\u001b[0m\u001b[0;34m\u001b[0m\u001b[0;34m\u001b[0m\u001b[0;34m\u001b[0m\u001b[0m\n",
      "\u001b[0;31mTypeError\u001b[0m: type list doesn't define __round__ method"
     ]
    }
   ],
   "source": [
    "import plotly.graph_objects as go\n",
    "\n",
    "V=2\n",
    "W=2*V+1\n",
    "\n",
    "data=[]\n",
    "\n",
    "for i in range(0,W):\n",
    "    data.append(W*[])\n",
    "\n",
    "for i in range(0,W):\n",
    "    data.append([])\n",
    "    for j in range(0,W):\n",
    "        x=j-V\n",
    "        y=i-V\n",
    "        \n",
    "        if x != 0 and y != 0:\n",
    "            data[i].append(E([x,y],[0,0],1))\n",
    "            \n",
    "for k in range(0,W):\n",
    "    print(data[1])"
   ]
  },
  {
   "cell_type": "code",
   "execution_count": null,
   "metadata": {},
   "outputs": [],
   "source": []
  }
 ],
 "metadata": {
  "kernelspec": {
   "display_name": "Python 3",
   "language": "python",
   "name": "python3"
  },
  "language_info": {
   "codemirror_mode": {
    "name": "ipython",
    "version": 3
   },
   "file_extension": ".py",
   "mimetype": "text/x-python",
   "name": "python",
   "nbconvert_exporter": "python",
   "pygments_lexer": "ipython3",
   "version": "3.7.4"
  }
 },
 "nbformat": 4,
 "nbformat_minor": 2
}
